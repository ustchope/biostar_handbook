{
 "cells": [
  {
   "cell_type": "code",
   "execution_count": 13,
   "id": "brief-memphis",
   "metadata": {},
   "outputs": [
    {
     "name": "stdout",
     "output_type": "stream",
     "text": [
      "\u001b[?2004h"
     ]
    },
    {
     "ename": "",
     "evalue": "1",
     "output_type": "error",
     "traceback": []
    }
   ],
   "source": [
    "git add 'I 前言.ipynb'"
   ]
  },
  {
   "cell_type": "code",
   "execution_count": 12,
   "id": "cooperative-spank",
   "metadata": {},
   "outputs": [
    {
     "name": "stdout",
     "output_type": "stream",
     "text": [
      "gitee\tgit@gitee.com:ustchope/biostar_handbook (fetch)\n",
      "gitee\tgit@gitee.com:ustchope/biostar_handbook (push)\n",
      "github\tgit@github.com:ustchope/biostar_handbook (fetch)\n",
      "github\tgit@github.com:ustchope/biostar_handbook (push)\n",
      "\u001b[?2004h"
     ]
    },
    {
     "ename": "",
     "evalue": "1",
     "output_type": "error",
     "traceback": []
    }
   ],
   "source": [
    "git remote -v"
   ]
  },
  {
   "cell_type": "code",
   "execution_count": 14,
   "id": "emerging-studio",
   "metadata": {},
   "outputs": [
    {
     "name": "stdout",
     "output_type": "stream",
     "text": [
      "[master d78ea3e] 创建新仓库 #1 change 2021-07026\n",
      " 1 file changed, 180 insertions(+), 2 deletions(-)\n",
      "\u001b[?2004h"
     ]
    },
    {
     "ename": "",
     "evalue": "1",
     "output_type": "error",
     "traceback": []
    }
   ],
   "source": [
    "git commit -m '创建新仓库 #1 change 2021-07026'"
   ]
  },
  {
   "cell_type": "code",
   "execution_count": 15,
   "id": "applied-treasury",
   "metadata": {},
   "outputs": [
    {
     "name": "stdout",
     "output_type": "stream",
     "text": [
      "枚举对象中: 5, 完成.\n",
      "对象计数中: 100% (5/5), 完成.\n",
      "使用 96 个线程进行压缩\n",
      "压缩对象中: 100% (2/2), 完成.\n",
      "写入对象中: 100% (3/3), 1.93 KiB | 658.00 KiB/s, 完成.\n",
      "总共 3（差异 0），复用 0（差异 0），包复用 0\n",
      "To github.com:ustchope/biostar_handbook\n",
      "   414bdd9..d78ea3e  master -> master\n",
      "\u001b[?2004h"
     ]
    },
    {
     "ename": "",
     "evalue": "1",
     "output_type": "error",
     "traceback": []
    }
   ],
   "source": [
    "git push github master"
   ]
  },
  {
   "cell_type": "code",
   "execution_count": 11,
   "id": "surprised-twelve",
   "metadata": {},
   "outputs": [
    {
     "name": "stdout",
     "output_type": "stream",
     "text": [
      "To gitee.com:ustchope/biostar_handbook\n",
      " \u001b[31m! [rejected]       \u001b[m master -> master (non-fast-forward)\n",
      "\u001b[31merror: 推送一些引用到 'gitee.com:ustchope/biostar_handbook' 失败\n",
      "\u001b[m\u001b[33m提示：更新被拒绝，因为您当前分支的最新提交落后于其对应的远程分支。\u001b[m\n",
      "\u001b[33m提示：再次推送前，先与远程变更合并（如 'git pull ...'）。详见\u001b[m\n",
      "\u001b[33m提示：'git push --help' 中的 'Note about fast-forwards' 小节。\u001b[m\n",
      "\u001b[?2004h"
     ]
    },
    {
     "ename": "",
     "evalue": "1",
     "output_type": "error",
     "traceback": []
    }
   ],
   "source": [
    "git push gitee master"
   ]
  },
  {
   "cell_type": "code",
   "execution_count": 16,
   "id": "meaningful-hands",
   "metadata": {},
   "outputs": [
    {
     "name": "stdout",
     "output_type": "stream",
     "text": [
      "\u001b[33m提示：不建议在没有为偏离分支指定合并策略时执行 pull 操作。 您可以在执行下一次\u001b[m\n",
      "\u001b[33m提示：pull 操作之前执行下面一条命令来抑制本消息：\u001b[m\n",
      "\u001b[33m提示：\u001b[m\n",
      "\u001b[33m提示：  git config pull.rebase false  # 合并（缺省策略）\u001b[m\n",
      "\u001b[33m提示：  git config pull.rebase true   # 变基\u001b[m\n",
      "\u001b[33m提示：  git config pull.ff only       # 仅快进\u001b[m\n",
      "\u001b[33m提示：\u001b[m\n",
      "\u001b[33m提示：您可以将 \"git config\" 替换为 \"git config --global\" 以便为所有仓库设置\u001b[m\n",
      "\u001b[33m提示：缺省的配置项。您也可以在每次执行 pull 命令时添加 --rebase、--no-rebase，\u001b[m\n",
      "\u001b[33m提示：或者 --ff-only 参数覆盖缺省设置。\u001b[m\n",
      "来自 gitee.com:ustchope/biostar_handbook\n",
      " * branch            master     -> FETCH_HEAD\n",
      "fatal: 拒绝合并无关的历史\n",
      "\u001b[?2004h"
     ]
    },
    {
     "ename": "",
     "evalue": "1",
     "output_type": "error",
     "traceback": []
    }
   ],
   "source": [
    "git pull gitee master"
   ]
  },
  {
   "cell_type": "markdown",
   "id": "civilian-cholesterol",
   "metadata": {},
   "source": [
    "# 欢迎阅读Biostar手册"
   ]
  },
  {
   "cell_type": "code",
   "execution_count": null,
   "id": "frequent-standard",
   "metadata": {},
   "outputs": [],
   "source": []
  }
 ],
 "metadata": {
  "kernelspec": {
   "display_name": "Bash",
   "language": "bash",
   "name": "bash"
  },
  "language_info": {
   "codemirror_mode": "shell",
   "file_extension": ".sh",
   "mimetype": "text/x-sh",
   "name": "bash"
  }
 },
 "nbformat": 4,
 "nbformat_minor": 5
}
