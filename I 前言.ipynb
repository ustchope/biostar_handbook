{
 "cells": [
  {
   "cell_type": "code",
   "execution_count": 1,
   "id": "happy-asset",
   "metadata": {},
   "outputs": [
    {
     "name": "stdout",
     "output_type": "stream",
     "text": [
      "gitee\tgit@gitee.com:ustchope/biostar_handbook.git (fetch)\n",
      "gitee\tgit@gitee.com:ustchope/biostar_handbook.git (push)\n",
      "github\tgit@github.com:ustchope/biostar_handbook (fetch)\n",
      "github\tgit@github.com:ustchope/biostar_handbook (push)\n",
      "[master 1df988c] 创建新仓库 #3 change 2021-07026\n",
      " 1 file changed, 227 insertions(+), 13 deletions(-)\n",
      "枚举对象中: 5, 完成.04l\u001b[?2004l\n",
      "对象计数中: 100% (5/5), 完成.\n",
      "使用 96 个线程进行压缩\n",
      "压缩对象中: 100% (3/3), 完成.\n",
      "写入对象中: 100% (3/3), 4.46 KiB | 2.23 MiB/s, 完成.\n",
      "总共 3（差异 0），复用 0（差异 0），包复用 0\n",
      "To github.com:ustchope/biostar_handbook\n",
      "   5e6e521..1df988c  master -> master\n",
      "\u001b[?2004h"
     ]
    },
    {
     "ename": "",
     "evalue": "1",
     "output_type": "error",
     "traceback": []
    }
   ],
   "source": [
    "# 增加更新\n",
    "git add 'I 前言.ipynb'\n",
    "\n",
    "git remote -v\n",
    "\n",
    "git commit -m '创建新仓库 #3 change 2021-07026'\n",
    "\n",
    "git push github master"
   ]
  },
  {
   "cell_type": "markdown",
   "id": "blocked-rebound",
   "metadata": {},
   "source": [
    "# 欢迎阅读Biostar手册"
   ]
  },
  {
   "cell_type": "markdown",
   "id": "demographic-latitude",
   "metadata": {},
   "source": [
    "映泰手册向读者介绍了生物信息学，这是生物学、计算机科学和统计数据分析交叉的科学学科，致力于基因组信息的数字处理。\n",
    "\n",
    "映泰手册已在研究型大学环境中开发、改进和完善，同时用于获得认可的博士学位。 水平训练计划。 本书的内容为成千上万的学生提供了分析基础，其中许多人已成为全职生物信息学家，并在世界上最具创新性的公司工作。"
   ]
  },
  {
   "cell_type": "markdown",
   "id": "identical-portrait",
   "metadata": {},
   "source": [
    "## 怎么下载这本书？"
   ]
  },
  {
   "cell_type": "markdown",
   "id": "increasing-transformation",
   "metadata": {},
   "source": [
    "该书可供注册用户使用。 最新版本可从以下网址下载：\n",
    "* 映泰手册，第 2 版，PDF1 • 映泰手册，第 2 版，电子书 2\n",
    "* 这本书定期更新（通常每天），尤其是在春季和秋季学期\n",
    "\n",
    "当这本书被用作教科书时。 我们建议通过网站访问本书，因为网络格式将始终包含最新的内容。 我们每年都会发送几次描述新内容的电子邮件。 想知道什么时候发布新内容？ 在下面订阅："
   ]
  },
  {
   "cell_type": "markdown",
   "id": "compound-accuracy",
   "metadata": {},
   "source": [
    "## 在线课程"
   ]
  },
  {
   "cell_type": "markdown",
   "id": "handy-philippines",
   "metadata": {},
   "source": [
    "在订阅期间（六个月或两年），本书包含对所有课程的访问权限。"
   ]
  },
  {
   "cell_type": "markdown",
   "id": "statistical-drill",
   "metadata": {},
   "source": [
    "Bioinformatics Data Analysis (2019)3 有 18 个讲座，视频演示。 这是我们在映泰手册第二版之后推荐的课程。"
   ]
  },
  {
   "cell_type": "markdown",
   "id": "similar-catalyst",
   "metadata": {},
   "source": [
    "![](https://tva1.sinaimg.cn/large/008i3skNgy1gsu6gmgt6aj313e05aac0.jpg)"
   ]
  },
  {
   "cell_type": "markdown",
   "id": "demographic-clinton",
   "metadata": {},
   "source": [
    "Learn Bioinformatics in 100 hours (2018) 有 30 个讲座、幻灯片、作业和测验（没有视频）。 本课程使用映泰手册第一版。"
   ]
  },
  {
   "cell_type": "markdown",
   "id": "appreciated-theology",
   "metadata": {},
   "source": [
    "![](https://tva1.sinaimg.cn/large/008i3skNgy1gsu75aen84j313m05qdhh.jpg)"
   ]
  },
  {
   "cell_type": "markdown",
   "id": "negative-nation",
   "metadata": {},
   "source": [
    "![](https://tva1.sinaimg.cn/large/008i3skNgy1gsu75na5duj314e07uq4r.jpg)"
   ]
  },
  {
   "cell_type": "markdown",
   "id": "editorial-scope",
   "metadata": {},
   "source": [
    "Python Programming (2018)10 有四个讲座，包括视频、幻灯片、作业和测验。 该课程将于 2019 年秋季或 2020 年早春重新启动。"
   ]
  },
  {
   "cell_type": "markdown",
   "id": "seasonal-engine",
   "metadata": {},
   "source": [
    "![](https://tva1.sinaimg.cn/large/008i3skNgy1gsu76g2ja9j312w05e3zz.jpg)"
   ]
  },
  {
   "cell_type": "markdown",
   "id": "forward-anaheim",
   "metadata": {},
   "source": [
    "## 访问您的帐户"
   ]
  },
  {
   "cell_type": "markdown",
   "id": "brazilian-gather",
   "metadata": {},
   "source": [
    "登录用户可以通过以下链接管理他们的帐户。 您也可以通过此页面更改您的电子邮件或注销。"
   ]
  },
  {
   "cell_type": "markdown",
   "id": "lightweight-messenger",
   "metadata": {},
   "source": [
    "## 这本书是如何开发的？"
   ]
  },
  {
   "cell_type": "markdown",
   "id": "white-venezuela",
   "metadata": {},
   "source": [
    "多年来，我们一直在为生命科学家教授生物信息学和编程课程。 我们还是 Biostars: Bioinformatics Question and Answer12 网站的开发者和维护者，该网站是帮助生物信息学科学家解决数据分析问题的主要资源。 我们根据这些多年培训学生和与需要帮助来完成分析的科学家互动的经验编写了这本书。 我们对将生物信息学方法应用于实际问题所面临的挑战和复杂性有着独特的理解，我们设计这本书是为了帮助读者克服这些挑战，并比他们想象的更进一步。"
   ]
  },
  {
   "cell_type": "markdown",
   "id": "sexual-situation",
   "metadata": {},
   "source": [
    "## 这本书有什么不同？"
   ]
  },
  {
   "cell_type": "markdown",
   "id": "faced-september",
   "metadata": {},
   "source": [
    "我们使用基于问题/答案的格式来简单而实用地解释概念和演示方法。 我们发现这是我们涵盖的主题最有效的培训方法。"
   ]
  },
  {
   "cell_type": "markdown",
   "id": "worthy-sellers",
   "metadata": {},
   "source": [
    "## 谁是Biostar？"
   ]
  },
  {
   "cell_type": "markdown",
   "id": "above-model",
   "metadata": {},
   "source": [
    "这不是什么； 这是一个谁。 而且可能是你。 这是责任超出明确界限的人。 这本书是给他们的。"
   ]
  },
  {
   "cell_type": "markdown",
   "id": "dental-sword",
   "metadata": {},
   "source": [
    "![](https://tva1.sinaimg.cn/large/008i3skNly1gsu8pbr5fyj316o0i2dhk.jpg)"
   ]
  },
  {
   "cell_type": "markdown",
   "id": "armed-america",
   "metadata": {},
   "source": [
    "可视化灵感来自 Anthony Fejes 的博客文章：谁是生物信息学家？"
   ]
  },
  {
   "cell_type": "markdown",
   "id": "close-panel",
   "metadata": {},
   "source": [
    "# 关于作者"
   ]
  },
  {
   "cell_type": "markdown",
   "id": "thousand-audience",
   "metadata": {},
   "source": [
    "István Albert 博士以走在生物信息学前沿并推动该领域向新方向发展而闻名。\n",
    "\n",
    "他帮助开创了 Galaxy 生物信息学平台，这是一个基于网络的开源工具，允许用户执行和共享数据密集型生物医学研究。他还开发了 BooleanNet ，一种生物系统模拟软件和 GeneTrack 软件平台，可自动处理和处理大量生物数据。\n",
    "\n",
    "目前，Albert 博士是网站 Biostars: Bioinformatics Questions and Answers 的首席软件开发者、维护者和管理员，该网站是每年有数百万人访问的生物信息学最全面的信息来源。\n",
    "\n",
    "除了以其在三个不同科学领域的科学创新而闻名：物理学、计算机科学和生物学，其出版物被引用超过 1 万次，阿尔伯特博士还是一位著名的教育家。他开发的课程一直受到学生的高度评价和推崇。"
   ]
  },
  {
   "cell_type": "markdown",
   "id": "divine-engineer",
   "metadata": {},
   "source": [
    "2014 年，István 因其卓越的讲座质量而被宾夕法尼亚州立大学授予 Paul M. Althouse 杰出教学奖。 获得如此高评价的讲座信息与您在映泰手册7中会找到的材料完全相同。"
   ]
  },
  {
   "cell_type": "markdown",
   "id": "killing-thesis",
   "metadata": {},
   "source": [
    "Albert 博士目前是宾夕法尼亚州立大学生物信息学研究教授和该研究所生物信息学咨询中心的主任。 István 建立了这个尖端的研究机构，在那里他为数十名杰出的年轻科学家提供了雄心勃勃的研究建议和帮助。 他还领导应用生物信息学研究生证书课程，这是一个通过宾夕法尼亚州立大学世界校区提供的综合生物信息学培训课程，让任何人在任何地方都能获得\n",
    "深入了解这个令人兴奋的新领域。"
   ]
  },
  {
   "cell_type": "markdown",
   "id": "decent-remedy",
   "metadata": {},
   "source": [
    "# 为什么是生物信息学？"
   ]
  },
  {
   "cell_type": "markdown",
   "id": "expired-furniture",
   "metadata": {},
   "source": [
    "在现代世界，探索时代似乎已经结束。 我们去过月球，南极有研究基地，我们可以观察原子。 您可能会问自己是否有奇迹等待被发现？ 毕竟，我们所剩下的似乎只是改进和改进先前的观察结果。\n",
    "\n",
    "我有好消息要告诉大家。 信息时代开辟了一个全新的科学领域，即理解生命本身由什么组成的领域。 我们都是这门新科学的初学者，我们都是从相同的知识和原则开始的。 每个人都有机会使用自己的电脑做出独特而引人入胜的发现。"
   ]
  },
  {
   "cell_type": "markdown",
   "id": "foster-venue",
   "metadata": {},
   "source": [
    "## 这本书是关于什么的？"
   ]
  },
  {
   "cell_type": "markdown",
   "id": "killing-stream",
   "metadata": {},
   "source": [
    "生活中一些最重要的问题的答案就在我们自己。生物信息学是数据科学和生物学结合的一门新科学。通过这个新兴的研究领域，科学家们能够找到并解码我们自己基因中隐藏的信息，让我们能够了解我们之前不知道的东西。\n",
    "\n",
    "这本书教你实用的技能，让你进入这个快速发展的行业。从基本概念开始，例如理解数据格式、一般如何进行分析以及可以从数据中得出什么结论，手册让您轻松进入无限的可能性世界。\n",
    "\n",
    "在本书的帮助下，您将重现真实数据分析场景的结果，例如基因组组装或基因表达分析。您将在手册中找到的方法和工具在世界一流的研究设施中得到改进，将使您能够进入这个新领域并解决我们在 21 世纪科学前沿面临的一些最重大的挑战。"
   ]
  },
  {
   "cell_type": "markdown",
   "id": "built-estonia",
   "metadata": {},
   "source": [
    "## 书中涵盖了哪些内容？"
   ]
  },
  {
   "cell_type": "markdown",
   "id": "attractive-franchise",
   "metadata": {},
   "source": [
    "手册分为几个部分。 我们涵盖了基础及其在现实数据分析场景中的应用。"
   ]
  },
  {
   "cell_type": "markdown",
   "id": "liberal-judgment",
   "metadata": {},
   "source": [
    "生物信息学分析概念：\n",
    "* 数据格式和存储库。\n",
    "* 序列比对。\n",
    "* 数据可视化。\n",
    "* Unix 命令行用法。"
   ]
  },
  {
   "cell_type": "markdown",
   "id": "controlling-banking",
   "metadata": {},
   "source": [
    "生物信息学协议：\n",
    "* 基因组变异和SNP 调用。\n",
    "* RNA-seq 和基因表达分析\n",
    "* 基因组组装\n",
    "* 宏基因组学分类\n",
    "* ChIP-Seq 分析"
   ]
  },
  {
   "cell_type": "markdown",
   "id": "chemical-sentence",
   "metadata": {},
   "source": [
    "软件工具使用：\n",
    "* 使用短读对齐器\n",
    "* 使用质量控制工具\n",
    "* 操作序列数据\n",
    "左侧的目录允许您跳转到相应的部分。"
   ]
  },
  {
   "cell_type": "markdown",
   "id": "resident-cargo",
   "metadata": {},
   "source": [
    "# 什么是生物信息学？"
   ]
  },
  {
   "cell_type": "code",
   "execution_count": null,
   "id": "charged-capacity",
   "metadata": {},
   "outputs": [],
   "source": []
  }
 ],
 "metadata": {
  "kernelspec": {
   "display_name": "Bash",
   "language": "bash",
   "name": "bash"
  },
  "language_info": {
   "codemirror_mode": "shell",
   "file_extension": ".sh",
   "mimetype": "text/x-sh",
   "name": "bash"
  }
 },
 "nbformat": 4,
 "nbformat_minor": 5
}
