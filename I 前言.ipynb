{
 "cells": [
  {
   "cell_type": "code",
   "execution_count": 43,
   "id": "brown-discrimination",
   "metadata": {},
   "outputs": [],
   "source": [
    "# 增加更新\n",
    "git add .\n",
    "\n",
    "git remote -v\n",
    "\n",
    "git commit -m '创建新仓库 #1 change 2021-07026'\n",
    "\n",
    "git push github master"
   ]
  },
  {
   "cell_type": "markdown",
   "id": "charitable-developer",
   "metadata": {},
   "source": [
    "# 欢迎阅读Biostar手册"
   ]
  },
  {
   "cell_type": "markdown",
   "id": "smooth-confidence",
   "metadata": {},
   "source": [
    "映泰手册向读者介绍了生物信息学，这是生物学、计算机科学和统计数据分析交叉的科学学科，致力于基因组信息的数字处理。\n",
    "\n",
    "映泰手册已在研究型大学环境中开发、改进和完善，同时用于获得认可的博士学位。 水平训练计划。 本书的内容为成千上万的学生提供了分析基础，其中许多人已成为全职生物信息学家，并在世界上最具创新性的公司工作。"
   ]
  },
  {
   "cell_type": "markdown",
   "id": "alpine-penalty",
   "metadata": {},
   "source": [
    "## 怎么下载这本书？"
   ]
  },
  {
   "cell_type": "markdown",
   "id": "stuck-baghdad",
   "metadata": {},
   "source": [
    "该书可供注册用户使用。 最新版本可从以下网址下载：\n",
    "* 映泰手册，第 2 版，PDF1 • 映泰手册，第 2 版，电子书 2\n",
    "* 这本书定期更新（通常每天），尤其是在春季和秋季学期\n",
    "\n",
    "当这本书被用作教科书时。 我们建议通过网站访问本书，因为网络格式将始终包含最新的内容。 我们每年都会发送几次描述新内容的电子邮件。 想知道什么时候发布新内容？ 在下面订阅："
   ]
  },
  {
   "cell_type": "markdown",
   "id": "convinced-farming",
   "metadata": {},
   "source": [
    "## 在线课程"
   ]
  },
  {
   "cell_type": "markdown",
   "id": "differential-religion",
   "metadata": {},
   "source": [
    "在订阅期间（六个月或两年），本书包含对所有课程的访问权限。"
   ]
  },
  {
   "cell_type": "markdown",
   "id": "classified-resort",
   "metadata": {},
   "source": [
    "Bioinformatics Data Analysis (2019)3 有 18 个讲座，视频演示。 这是我们在映泰手册第二版之后推荐的课程。"
   ]
  },
  {
   "cell_type": "markdown",
   "id": "illegal-mount",
   "metadata": {},
   "source": [
    "![](https://tva1.sinaimg.cn/large/008i3skNgy1gsu6gmgt6aj313e05aac0.jpg)"
   ]
  },
  {
   "cell_type": "code",
   "execution_count": null,
   "id": "declared-plumbing",
   "metadata": {},
   "outputs": [],
   "source": []
  }
 ],
 "metadata": {
  "kernelspec": {
   "display_name": "Bash",
   "language": "bash",
   "name": "bash"
  },
  "language_info": {
   "codemirror_mode": "shell",
   "file_extension": ".sh",
   "mimetype": "text/x-sh",
   "name": "bash"
  }
 },
 "nbformat": 4,
 "nbformat_minor": 5
}
