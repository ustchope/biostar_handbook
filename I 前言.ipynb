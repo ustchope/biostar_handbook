{
 "cells": [
  {
   "cell_type": "markdown",
   "id": "demonstrated-sympathy",
   "metadata": {},
   "source": [
    "# 欢迎阅读Biostar手册"
   ]
  },
  {
   "cell_type": "code",
   "execution_count": null,
   "id": "active-string",
   "metadata": {},
   "outputs": [],
   "source": []
  }
 ],
 "metadata": {
  "kernelspec": {
   "display_name": "Bash",
   "language": "bash",
   "name": "bash"
  },
  "language_info": {
   "codemirror_mode": "shell",
   "file_extension": ".sh",
   "mimetype": "text/x-sh",
   "name": "bash"
  }
 },
 "nbformat": 4,
 "nbformat_minor": 5
}
