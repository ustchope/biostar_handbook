{
 "cells": [
  {
   "cell_type": "code",
   "execution_count": 1,
   "id": "breeding-disclaimer",
   "metadata": {},
   "outputs": [
    {
     "name": "stdout",
     "output_type": "stream",
     "text": [
      "[master 23f3ae1] 创建新仓库 #4 change 2021-070262004l\n",
      " 1 file changed, 48 insertions(+), 47 deletions(-)\n",
      "枚举对象中: 5, 完成.04l\u001b[?2004l\n",
      "对象计数中: 100% (5/5), 完成.\n",
      "使用 96 个线程进行压缩\n",
      "压缩对象中: 100% (3/3), 完成.\n",
      "写入对象中: 100% (3/3), 1.22 KiB | 415.00 KiB/s, 完成.\n",
      "总共 3（差异 1），复用 0（差异 0），包复用 0\n",
      "remote: Resolving deltas: 100% (1/1), completed with 1 local object.\u001b[K\n",
      "To github.com:ustchope/biostar_handbook\n",
      "   50fa58e..23f3ae1  master -> master\n",
      "\u001b[?2004h"
     ]
    },
    {
     "ename": "",
     "evalue": "1",
     "output_type": "error",
     "traceback": []
    }
   ],
   "source": [
    "# 增加更新\n",
    "git add 'I 前言.ipynb'\n",
    "\n",
    "#git remote -v\n",
    "\n",
    "git commit -m '创建新仓库 #4 change 2021-07026'\n",
    "\n",
    "git push github master"
   ]
  },
  {
   "cell_type": "markdown",
   "id": "existing-decrease",
   "metadata": {},
   "source": [
    "# 欢迎阅读Biostar手册"
   ]
  },
  {
   "cell_type": "markdown",
   "id": "unusual-public",
   "metadata": {},
   "source": [
    "映泰手册向读者介绍了生物信息学，这是生物学、计算机科学和统计数据分析交叉的科学学科，致力于基因组信息的数字处理。\n",
    "\n",
    "映泰手册已在研究型大学环境中开发、改进和完善，同时用于获得认可的博士学位。 水平训练计划。 本书的内容为成千上万的学生提供了分析基础，其中许多人已成为全职生物信息学家，并在世界上最具创新性的公司工作。"
   ]
  },
  {
   "cell_type": "markdown",
   "id": "economic-settle",
   "metadata": {},
   "source": [
    "## 怎么下载这本书？"
   ]
  },
  {
   "cell_type": "markdown",
   "id": "super-affair",
   "metadata": {},
   "source": [
    "该书可供注册用户使用。 最新版本可从以下网址下载：\n",
    "* 映泰手册，第 2 版，PDF1 • 映泰手册，第 2 版，电子书 2\n",
    "* 这本书定期更新（通常每天），尤其是在春季和秋季学期\n",
    "\n",
    "当这本书被用作教科书时。 我们建议通过网站访问本书，因为网络格式将始终包含最新的内容。 我们每年都会发送几次描述新内容的电子邮件。 想知道什么时候发布新内容？ 在下面订阅："
   ]
  },
  {
   "cell_type": "markdown",
   "id": "informal-namibia",
   "metadata": {},
   "source": [
    "## 在线课程"
   ]
  },
  {
   "cell_type": "markdown",
   "id": "associate-friday",
   "metadata": {},
   "source": [
    "在订阅期间（六个月或两年），本书包含对所有课程的访问权限。"
   ]
  },
  {
   "cell_type": "markdown",
   "id": "interstate-python",
   "metadata": {},
   "source": [
    "Bioinformatics Data Analysis (2019)3 有 18 个讲座，视频演示。 这是我们在映泰手册第二版之后推荐的课程。"
   ]
  },
  {
   "cell_type": "markdown",
   "id": "automatic-magazine",
   "metadata": {},
   "source": [
    "![](https://tva1.sinaimg.cn/large/008i3skNgy1gsu6gmgt6aj313e05aac0.jpg)"
   ]
  },
  {
   "cell_type": "markdown",
   "id": "wrapped-exemption",
   "metadata": {},
   "source": [
    "Learn Bioinformatics in 100 hours (2018) 有 30 个讲座、幻灯片、作业和测验（没有视频）。 本课程使用映泰手册第一版。"
   ]
  },
  {
   "cell_type": "markdown",
   "id": "economic-vault",
   "metadata": {},
   "source": [
    "![](https://tva1.sinaimg.cn/large/008i3skNgy1gsu75aen84j313m05qdhh.jpg)"
   ]
  },
  {
   "cell_type": "markdown",
   "id": "raising-porter",
   "metadata": {},
   "source": [
    "![](https://tva1.sinaimg.cn/large/008i3skNgy1gsu75na5duj314e07uq4r.jpg)"
   ]
  },
  {
   "cell_type": "markdown",
   "id": "micro-hypothetical",
   "metadata": {},
   "source": [
    "Python Programming (2018)10 有四个讲座，包括视频、幻灯片、作业和测验。 该课程将于 2019 年秋季或 2020 年早春重新启动。"
   ]
  },
  {
   "cell_type": "markdown",
   "id": "parallel-heavy",
   "metadata": {},
   "source": [
    "![](https://tva1.sinaimg.cn/large/008i3skNgy1gsu76g2ja9j312w05e3zz.jpg)"
   ]
  },
  {
   "cell_type": "markdown",
   "id": "dependent-prison",
   "metadata": {},
   "source": [
    "## 访问您的帐户"
   ]
  },
  {
   "cell_type": "markdown",
   "id": "understanding-workplace",
   "metadata": {},
   "source": [
    "登录用户可以通过以下链接管理他们的帐户。 您也可以通过此页面更改您的电子邮件或注销。"
   ]
  },
  {
   "cell_type": "markdown",
   "id": "ongoing-gregory",
   "metadata": {},
   "source": [
    "## 这本书是如何开发的？"
   ]
  },
  {
   "cell_type": "markdown",
   "id": "artistic-hacker",
   "metadata": {},
   "source": [
    "多年来，我们一直在为生命科学家教授生物信息学和编程课程。 我们还是 Biostars: Bioinformatics Question and Answer12 网站的开发者和维护者，该网站是帮助生物信息学科学家解决数据分析问题的主要资源。 我们根据这些多年培训学生和与需要帮助来完成分析的科学家互动的经验编写了这本书。 我们对将生物信息学方法应用于实际问题所面临的挑战和复杂性有着独特的理解，我们设计这本书是为了帮助读者克服这些挑战，并比他们想象的更进一步。"
   ]
  },
  {
   "cell_type": "markdown",
   "id": "mysterious-population",
   "metadata": {},
   "source": [
    "## 这本书有什么不同？"
   ]
  },
  {
   "cell_type": "markdown",
   "id": "imperial-kingdom",
   "metadata": {},
   "source": [
    "我们使用基于问题/答案的格式来简单而实用地解释概念和演示方法。 我们发现这是我们涵盖的主题最有效的培训方法。"
   ]
  },
  {
   "cell_type": "markdown",
   "id": "ruled-japanese",
   "metadata": {},
   "source": [
    "## 谁是Biostar？"
   ]
  },
  {
   "cell_type": "markdown",
   "id": "eligible-contrary",
   "metadata": {},
   "source": [
    "这不是什么； 这是一个谁。 而且可能是你。 这是责任超出明确界限的人。 这本书是给他们的。"
   ]
  },
  {
   "cell_type": "markdown",
   "id": "narrative-executive",
   "metadata": {},
   "source": [
    "![](https://tva1.sinaimg.cn/large/008i3skNly1gsu8pbr5fyj316o0i2dhk.jpg)"
   ]
  },
  {
   "cell_type": "markdown",
   "id": "sapphire-enclosure",
   "metadata": {},
   "source": [
    "可视化灵感来自 Anthony Fejes 的博客文章：谁是生物信息学家？"
   ]
  },
  {
   "cell_type": "markdown",
   "id": "successful-belize",
   "metadata": {},
   "source": [
    "# 关于作者"
   ]
  },
  {
   "cell_type": "markdown",
   "id": "preliminary-excitement",
   "metadata": {},
   "source": [
    "István Albert 博士以走在生物信息学前沿并推动该领域向新方向发展而闻名。\n",
    "\n",
    "他帮助开创了 Galaxy 生物信息学平台，这是一个基于网络的开源工具，允许用户执行和共享数据密集型生物医学研究。他还开发了 BooleanNet ，一种生物系统模拟软件和 GeneTrack 软件平台，可自动处理和处理大量生物数据。\n",
    "\n",
    "目前，Albert 博士是网站 Biostars: Bioinformatics Questions and Answers 的首席软件开发者、维护者和管理员，该网站是每年有数百万人访问的生物信息学最全面的信息来源。\n",
    "\n",
    "除了以其在三个不同科学领域的科学创新而闻名：物理学、计算机科学和生物学，其出版物被引用超过 1 万次，阿尔伯特博士还是一位著名的教育家。他开发的课程一直受到学生的高度评价和推崇。"
   ]
  },
  {
   "cell_type": "markdown",
   "id": "cheap-kitty",
   "metadata": {},
   "source": [
    "2014 年，István 因其卓越的讲座质量而被宾夕法尼亚州立大学授予 Paul M. Althouse 杰出教学奖。 获得如此高评价的讲座信息与您在映泰手册7中会找到的材料完全相同。"
   ]
  },
  {
   "cell_type": "markdown",
   "id": "sublime-bouquet",
   "metadata": {},
   "source": [
    "Albert 博士目前是宾夕法尼亚州立大学生物信息学研究教授和该研究所生物信息学咨询中心的主任。 István 建立了这个尖端的研究机构，在那里他为数十名杰出的年轻科学家提供了雄心勃勃的研究建议和帮助。 他还领导应用生物信息学研究生证书课程，这是一个通过宾夕法尼亚州立大学世界校区提供的综合生物信息学培训课程，让任何人在任何地方都能获得\n",
    "深入了解这个令人兴奋的新领域。"
   ]
  },
  {
   "cell_type": "markdown",
   "id": "assigned-windows",
   "metadata": {},
   "source": [
    "# 为什么是生物信息学？"
   ]
  },
  {
   "cell_type": "markdown",
   "id": "upper-spouse",
   "metadata": {},
   "source": [
    "在现代世界，探索时代似乎已经结束。 我们去过月球，南极有研究基地，我们可以观察原子。 您可能会问自己是否有奇迹等待被发现？ 毕竟，我们所剩下的似乎只是改进和改进先前的观察结果。\n",
    "\n",
    "我有好消息要告诉大家。 信息时代开辟了一个全新的科学领域，即理解生命本身由什么组成的领域。 我们都是这门新科学的初学者，我们都是从相同的知识和原则开始的。 每个人都有机会使用自己的电脑做出独特而引人入胜的发现。"
   ]
  },
  {
   "cell_type": "markdown",
   "id": "derived-stuff",
   "metadata": {},
   "source": [
    "## 这本书是关于什么的？"
   ]
  },
  {
   "cell_type": "markdown",
   "id": "modified-aerospace",
   "metadata": {},
   "source": [
    "生活中一些最重要的问题的答案就在我们自己。生物信息学是数据科学和生物学结合的一门新科学。通过这个新兴的研究领域，科学家们能够找到并解码我们自己基因中隐藏的信息，让我们能够了解我们之前不知道的东西。\n",
    "\n",
    "这本书教你实用的技能，让你进入这个快速发展的行业。从基本概念开始，例如理解数据格式、一般如何进行分析以及可以从数据中得出什么结论，手册让您轻松进入无限的可能性世界。\n",
    "\n",
    "在本书的帮助下，您将重现真实数据分析场景的结果，例如基因组组装或基因表达分析。您将在手册中找到的方法和工具在世界一流的研究设施中得到改进，将使您能够进入这个新领域并解决我们在 21 世纪科学前沿面临的一些最重大的挑战。"
   ]
  },
  {
   "cell_type": "markdown",
   "id": "grand-positive",
   "metadata": {},
   "source": [
    "## 书中涵盖了哪些内容？"
   ]
  },
  {
   "cell_type": "markdown",
   "id": "editorial-scene",
   "metadata": {},
   "source": [
    "手册分为几个部分。 我们涵盖了基础及其在现实数据分析场景中的应用。"
   ]
  },
  {
   "cell_type": "markdown",
   "id": "adopted-genome",
   "metadata": {},
   "source": [
    "生物信息学分析概念：\n",
    "* 数据格式和存储库。\n",
    "* 序列比对。\n",
    "* 数据可视化。\n",
    "* Unix 命令行用法。"
   ]
  },
  {
   "cell_type": "markdown",
   "id": "convenient-israel",
   "metadata": {},
   "source": [
    "生物信息学协议：\n",
    "* 基因组变异和SNP 调用。\n",
    "* RNA-seq 和基因表达分析\n",
    "* 基因组组装\n",
    "* 宏基因组学分类\n",
    "* ChIP-Seq 分析"
   ]
  },
  {
   "cell_type": "markdown",
   "id": "about-clinton",
   "metadata": {},
   "source": [
    "软件工具使用：\n",
    "* 使用短读对齐器\n",
    "* 使用质量控制工具\n",
    "* 操作序列数据\n",
    "左侧的目录允许您跳转到相应的部分。"
   ]
  },
  {
   "cell_type": "markdown",
   "id": "another-thriller",
   "metadata": {},
   "source": [
    "# 什么是生物信息学？"
   ]
  },
  {
   "cell_type": "markdown",
   "id": "front-museum",
   "metadata": {},
   "source": [
    "生物信息学是一个新的、以计算为导向的生命科学领域。 它的主要目标是理解生物体内存储的信息。 生物信息学依赖并结合了生物学、计算机科学和数据分析的概念和方法。 生物信息学家主要根据他们通过数字解析基因组信息对生物过程产生的新见解来评估和定义他们的成功。"
   ]
  },
  {
   "cell_type": "markdown",
   "id": "patient-catalyst",
   "metadata": {},
   "source": [
    "> 生物信息学是一门数据科学，研究信息如何在生物体内存储和处理。"
   ]
  },
  {
   "cell_type": "markdown",
   "id": "copyrighted-outdoors",
   "metadata": {},
   "source": [
    "## 生物信息学发生了怎样的变化？"
   ]
  },
  {
   "cell_type": "markdown",
   "id": "filled-piano",
   "metadata": {},
   "source": [
    "在早期——也许直到 2000 年代初——生物信息学是序列分析的同义词。 科学家通常只获得几个 DNA 序列，然后分析它们的各种特性。 今天，序列分析仍然是生物信息学家工作的核心，但它也远远超出了它。\n",
    "\n",
    "在 2000 年代中期，所谓的下一代高通量测序仪器（例如 Illumina HiSeq）使得在单次实验运行中测量细胞的完整基因组含量成为可能。 随着科学家们能够捕捉到与 DNA 相关的所有事物的快照，数据量急剧增加。\n",
    "\n",
    "这些新技术将生物信息学转变为一个全新的数据科学领域，该领域建立在“经典生物信息学”的基础上，可以处理、调查和总结异常复杂的海量数据集。"
   ]
  },
  {
   "cell_type": "markdown",
   "id": "handed-narrow",
   "metadata": {},
   "source": [
    "## 生物信息学有哪些子领域？"
   ]
  },
  {
   "cell_type": "markdown",
   "id": "infinite-projection",
   "metadata": {},
   "source": [
    "DNA 测序最初用于揭示细胞的 DNA 含量。 然而，许多人可能会感到惊讶，生物信息学未来最重要的前景可能在于其他应用。 一般来说，大多数生物信息学问题属于以下四类之一：\n",
    "1. 分类：确定一个生物种群的物种组成\n",
    "2. 组装：建立基因组的核苷酸组成\n",
    "3. 重测序：识别基因组中的突变和变异\n",
    "4. 定量：使用DNA测序来测量细胞的功能特征"
   ]
  },
  {
   "cell_type": "markdown",
   "id": "perfect-sucking",
   "metadata": {},
   "source": [
    "人类基因组计划完全属于组装类别。自完成以来，科学家们已经组装了数千种其他物种的基因组。然而，数百万物种的基因组仍然完全未知。\n",
    "\n",
    "试图确定与已知基因组相关的变化的研究属于重测序研究领域。 DNA 突变和变异可能会导致表型变化，例如新出现的疾病、健康状况的变化、不同的存活率等等。例如，有几项正在进行的工作来编译人类基因组中存在的所有变体——这些工作属于重测序类别。由于生物信息学家的工作，正在进行大规模的计算工作，以从通过重新测序获得的知识中产生具有临床价值的信息。\n",
    "\n",
    "活的微生物围绕着我们，我们与它们共存于复杂的集体中，只有通过保持相互依存的和谐才能生存。通过遗传物质对这些几乎不为人知的微生物种类进行分类是生物信息学的一个快速发展的子领域。"
   ]
  },
  {
   "cell_type": "markdown",
   "id": "minimal-veteran",
   "metadata": {},
   "source": [
    "最后，也许最出乎意料的是，生物信息学方法可以通过量化帮助我们更好地了解生物过程，如基因表达。在这些协议中，测序程序用于确定与其他生物过程相关的各种 DNA 片段的相对丰度。\n",
    "\n",
    "几十年来，生物学家已成为操纵 DNA 的专家，现在能够选择许多自然发生的分子过程来复制、翻译和复制 DNA 分子，并将这些动作与生物过程联系起来。测序为这个世界打开了一扇新的窗口，不断发现新的方法和序列操作。各种方法通常被称为Something-Seq，例如RNA-Seq、Chip-Seq、RAD-Seq，以反映捕获/连接到测序的机制。例如，RNA-Seq 通过逆转录将其转化为 DNA 来揭示 RNA 的丰度。对该构建体进行测序允许同时测量细胞的所有基因的表达水平。例如，RAD-Seq 使用限制酶在特定位置切割 DNA，然后仅对这些位置周围的片段进行测序。这种方法在这些站点周围产生非常高的覆盖率，因此适用于种群遗传学研究。"
   ]
  },
  {
   "cell_type": "markdown",
   "id": "interstate-likelihood",
   "metadata": {},
   "source": [
    "## 是否有生物信息学中使用的功能分析列表？"
   ]
  },
  {
   "cell_type": "markdown",
   "id": "ecological-guide",
   "metadata": {},
   "source": [
    "在生命科学领域，检测是一种调查程序，用于评估或测量某些目标（如 DNA 片段）的存在、数量或功能。 加州理工学院数学教授 Lior Pachter 博士在名为 Star-Seq3 的页面上维护了一份“功能基因组学”分析技术列表。\n",
    "\n",
    "所有这些技术都属于量化类别。 每种分析都使用 DNA 测序来量化另一种测量方法，其中许多是将 DNA 丰度与各种生物过程联系起来的例子。"
   ]
  },
  {
   "cell_type": "markdown",
   "id": "skilled-metadata",
   "metadata": {},
   "source": [
    "值得注意的是，该列表现在包含近 100 项技术。 包括我们在内的许多人认为，这些测序应用比确定基因组的碱基组成具有更大的重要性和影响。\n",
    "\n",
    "以下是 Pachter 博士列表中的一些检测技术示例："
   ]
  },
  {
   "cell_type": "markdown",
   "id": "nuclear-output",
   "metadata": {},
   "source": [
    "![](https://tva1.sinaimg.cn/large/008i3skNgy1gsyr93voftj30r00tidnj.jpg)"
   ]
  },
  {
   "cell_type": "markdown",
   "id": "collectible-helping",
   "metadata": {},
   "source": [
    "## 但什么是生物信息学，真的吗？"
   ]
  },
  {
   "cell_type": "code",
   "execution_count": null,
   "id": "planned-verification",
   "metadata": {},
   "outputs": [],
   "source": []
  }
 ],
 "metadata": {
  "kernelspec": {
   "display_name": "Bash",
   "language": "bash",
   "name": "bash"
  },
  "language_info": {
   "codemirror_mode": "shell",
   "file_extension": ".sh",
   "mimetype": "text/x-sh",
   "name": "bash"
  }
 },
 "nbformat": 4,
 "nbformat_minor": 5
}
