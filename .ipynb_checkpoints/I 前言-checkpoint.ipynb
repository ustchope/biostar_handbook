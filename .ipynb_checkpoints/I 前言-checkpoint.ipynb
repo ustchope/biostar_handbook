{
 "cells": [
  {
   "cell_type": "code",
   "execution_count": 34,
   "id": "pharmaceutical-cotton",
   "metadata": {},
   "outputs": [
    {
     "name": "stdout",
     "output_type": "stream",
     "text": [
      "\u001b[?2004h"
     ]
    },
    {
     "ename": "",
     "evalue": "1",
     "output_type": "error",
     "traceback": []
    }
   ],
   "source": [
    "git add ."
   ]
  },
  {
   "cell_type": "code",
   "execution_count": 35,
   "id": "casual-appendix",
   "metadata": {},
   "outputs": [
    {
     "name": "stdout",
     "output_type": "stream",
     "text": [
      "gitee\tgit@gitee.com:ustchope/biostar_handbook.git (fetch)\n",
      "gitee\tgit@gitee.com:ustchope/biostar_handbook.git (push)\n",
      "github\tgit@github.com:ustchope/biostar_handbook (fetch)\n",
      "github\tgit@github.com:ustchope/biostar_handbook (push)\n",
      "\u001b[?2004h"
     ]
    },
    {
     "ename": "",
     "evalue": "1",
     "output_type": "error",
     "traceback": []
    }
   ],
   "source": [
    "git remote -v"
   ]
  },
  {
   "cell_type": "code",
   "execution_count": 36,
   "id": "raised-reynolds",
   "metadata": {},
   "outputs": [
    {
     "name": "stdout",
     "output_type": "stream",
     "text": [
      "位于分支 master\n",
      "无文件要提交，干净的工作区\n",
      "\u001b[?2004h"
     ]
    },
    {
     "ename": "",
     "evalue": "1",
     "output_type": "error",
     "traceback": []
    }
   ],
   "source": [
    "git commit -m '创建新仓库 #1 change 2021-07026'"
   ]
  },
  {
   "cell_type": "code",
   "execution_count": 37,
   "id": "radio-diagnosis",
   "metadata": {},
   "outputs": [
    {
     "name": "stdout",
     "output_type": "stream",
     "text": [
      "枚举对象中: 19, 完成.\n",
      "对象计数中: 100% (19/19), 完成.\n",
      "使用 96 个线程进行压缩\n",
      "压缩对象中: 100% (15/15), 完成.\n",
      "写入对象中: 100% (15/15), 3.70 KiB | 948.00 KiB/s, 完成.\n",
      "总共 15（差异 4），复用 0（差异 0），包复用 0\n",
      "remote: Resolving deltas: 100% (4/4), completed with 3 local objects.\u001b[K\n",
      "To github.com:ustchope/biostar_handbook\n",
      "   7b2dca1..86012ec  master -> master\n",
      "\u001b[?2004h"
     ]
    },
    {
     "ename": "",
     "evalue": "1",
     "output_type": "error",
     "traceback": []
    }
   ],
   "source": [
    "git push github master"
   ]
  },
  {
   "cell_type": "code",
   "execution_count": 38,
   "id": "comprehensive-basics",
   "metadata": {},
   "outputs": [
    {
     "name": "stdout",
     "output_type": "stream",
     "text": [
      "To gitee.com:ustchope/biostar_handbook.git\n",
      " \u001b[31m! [rejected]       \u001b[m master -> master (non-fast-forward)\n",
      "\u001b[31merror: 推送一些引用到 'gitee.com:ustchope/biostar_handbook.git' 失败\n",
      "\u001b[m\u001b[33m提示：更新被拒绝，因为您当前分支的最新提交落后于其对应的远程分支。\u001b[m\n",
      "\u001b[33m提示：再次推送前，先与远程变更合并（如 'git pull ...'）。详见\u001b[m\n",
      "\u001b[33m提示：'git push --help' 中的 'Note about fast-forwards' 小节。\u001b[m\n",
      "\u001b[?2004h"
     ]
    },
    {
     "ename": "",
     "evalue": "1",
     "output_type": "error",
     "traceback": []
    }
   ],
   "source": [
    "git push gitee master"
   ]
  },
  {
   "cell_type": "code",
   "execution_count": 16,
   "id": "early-borough",
   "metadata": {},
   "outputs": [
    {
     "name": "stdout",
     "output_type": "stream",
     "text": [
      "\u001b[33m提示：不建议在没有为偏离分支指定合并策略时执行 pull 操作。 您可以在执行下一次\u001b[m\n",
      "\u001b[33m提示：pull 操作之前执行下面一条命令来抑制本消息：\u001b[m\n",
      "\u001b[33m提示：\u001b[m\n",
      "\u001b[33m提示：  git config pull.rebase false  # 合并（缺省策略）\u001b[m\n",
      "\u001b[33m提示：  git config pull.rebase true   # 变基\u001b[m\n",
      "\u001b[33m提示：  git config pull.ff only       # 仅快进\u001b[m\n",
      "\u001b[33m提示：\u001b[m\n",
      "\u001b[33m提示：您可以将 \"git config\" 替换为 \"git config --global\" 以便为所有仓库设置\u001b[m\n",
      "\u001b[33m提示：缺省的配置项。您也可以在每次执行 pull 命令时添加 --rebase、--no-rebase，\u001b[m\n",
      "\u001b[33m提示：或者 --ff-only 参数覆盖缺省设置。\u001b[m\n",
      "来自 gitee.com:ustchope/biostar_handbook\n",
      " * branch            master     -> FETCH_HEAD\n",
      "fatal: 拒绝合并无关的历史\n",
      "\u001b[?2004h"
     ]
    },
    {
     "ename": "",
     "evalue": "1",
     "output_type": "error",
     "traceback": []
    }
   ],
   "source": [
    "git pull gitee master"
   ]
  },
  {
   "cell_type": "markdown",
   "id": "requested-robin",
   "metadata": {},
   "source": [
    "# 欢迎阅读Biostar手册"
   ]
  },
  {
   "cell_type": "code",
   "execution_count": null,
   "id": "heated-baker",
   "metadata": {},
   "outputs": [],
   "source": []
  }
 ],
 "metadata": {
  "kernelspec": {
   "display_name": "Bash",
   "language": "bash",
   "name": "bash"
  },
  "language_info": {
   "codemirror_mode": "shell",
   "file_extension": ".sh",
   "mimetype": "text/x-sh",
   "name": "bash"
  }
 },
 "nbformat": 4,
 "nbformat_minor": 5
}
